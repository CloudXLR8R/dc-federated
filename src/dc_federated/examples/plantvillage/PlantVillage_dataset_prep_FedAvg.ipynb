{
 "cells": [
  {
   "cell_type": "markdown",
   "metadata": {},
   "source": [
    "# PlantVillage dataset preparation\n",
    "\n",
    "Project exploring the PlantVillage datatset and creating train, test and validation sets for training a classifier for leaf diseases.\n",
    "\n",
    "Create as many subsets as there needed for the training and validation data, with predefined distribution between the various workers training sets."
   ]
  },
  {
   "cell_type": "code",
   "execution_count": 1,
   "metadata": {},
   "outputs": [],
   "source": [
    "import numpy as np\n",
    "import os\n",
    "import shutil\n",
    "from pathlib import Path\n",
    "import json\n",
    "from os import listdir"
   ]
  },
  {
   "cell_type": "code",
   "execution_count": 2,
   "metadata": {},
   "outputs": [],
   "source": [
    "# TO DO: select whether to work with segmented or color images from the PlantVillage dataset\n",
    "data_type = 'color/'"
   ]
  },
  {
   "cell_type": "code",
   "execution_count": 3,
   "metadata": {},
   "outputs": [],
   "source": [
    "'''\n",
    "Original dataset:   'PlantVillageData/dataset/'+data_type, i.e. \"color\"\n",
    "Split dataset:      'dataset/processed/'\n",
    "Split train sets:   'dataset/processed/train0/\n",
    "                    'dataset/processed/train1/\n",
    "                    'dataset/processed/train.../\n",
    "Split val set:      'dataset/processed/val/\n",
    "Split test set:     'dataset/processed/test/                    \n",
    "                    \n",
    "'''\n",
    "BASE_DIR = '/home/ubuntu/code/PlantVillageData/dataset/'\n",
    "\n",
    "DATA_DIR = BASE_DIR+data_type\n",
    "TRAIN_DIR = BASE_DIR+'processed/train'\n",
    "VAL_DIR = BASE_DIR+'processed/val/'\n",
    "TEST_DIR = BASE_DIR+'processed/test/'"
   ]
  },
  {
   "cell_type": "code",
   "execution_count": 4,
   "metadata": {},
   "outputs": [
    {
     "name": "stdout",
     "output_type": "stream",
     "text": [
      "Dataset categories: \n",
      "['Soybean___healthy', 'Tomato___Tomato_mosaic_virus', 'Cherry_(including_sour)___healthy', 'Strawberry___Leaf_scorch', 'Tomato___Spider_mites Two-spotted_spider_mite', 'Pepper,_bell___Bacterial_spot', 'Tomato___Bacterial_spot', 'Apple___Apple_scab', 'Potato___Early_blight', 'Tomato___Late_blight', 'Raspberry___healthy', 'Corn_(maize)___Cercospora_leaf_spot Gray_leaf_spot', 'Corn_(maize)___Northern_Leaf_Blight', 'Corn_(maize)___Common_rust_', 'Grape___Esca_(Black_Measles)', 'Cherry_(including_sour)___Powdery_mildew', 'Apple___Black_rot', 'Corn_(maize)___healthy', 'Tomato___Target_Spot', 'Orange___Haunglongbing_(Citrus_greening)', 'Tomato___Tomato_Yellow_Leaf_Curl_Virus', 'Squash___Powdery_mildew', 'Apple___Cedar_apple_rust', 'Grape___healthy', 'Apple___healthy', 'Tomato___Leaf_Mold', 'Peach___Bacterial_spot', 'Tomato___Early_blight', 'Grape___Leaf_blight_(Isariopsis_Leaf_Spot)', 'Peach___healthy', 'Blueberry___healthy', 'Potato___Late_blight', 'Pepper,_bell___healthy', 'Grape___Black_rot', 'Tomato___healthy', 'Potato___healthy', 'Strawberry___healthy', 'Tomato___Septoria_leaf_spot']\n",
      "\n",
      "Number of categories: 38\n"
     ]
    }
   ],
   "source": [
    "# List the dataset categories\n",
    "categories = listdir(DATA_DIR)\n",
    "for cat in categories :\n",
    "    # remove .DS_Store from list\n",
    "    if cat == \".DS_Store\" :\n",
    "        categories.remove(cat)\n",
    "print('Dataset categories: \\n{}\\n\\nNumber of categories: {}'.format(categories, len(categories)))"
   ]
  },
  {
   "cell_type": "code",
   "execution_count": 5,
   "metadata": {},
   "outputs": [
    {
     "name": "stdout",
     "output_type": "stream",
     "text": [
      "Dataset categories: \n",
      "['Strawberry___Leaf_scorch', 'Tomato___Bacterial_spot', 'Apple___Apple_scab', 'Tomato___Late_blight', 'Apple___Black_rot', 'Apple___Cedar_apple_rust', 'Apple___healthy', 'Tomato___healthy', 'Strawberry___healthy']\n",
      "\n",
      "Number of categories: 9\n"
     ]
    }
   ],
   "source": [
    "# Select categories to remove from the analysis\n",
    "excluded_categories = ['Cherry_(including_sour)___Powdery_mildew', 'Corn_(maize)___Cercospora_leaf_spot Gray_leaf_spot', \n",
    "                       'Squash___Powdery_mildew', 'Peach___Bacterial_spot', 'Potato___healthy', \n",
    "                       'Pepper,_bell___Bacterial_spot', 'Corn_(maize)___healthy', \n",
    "                       'Grape___Leaf_blight_(Isariopsis_Leaf_Spot)', 'Peach___healthy', 'Blueberry___healthy', \n",
    "                       'Pepper,_bell___healthy', 'Grape___Esca_(Black_Measles)', 'Cherry_(including_sour)___healthy', \n",
    "                       'Orange___Haunglongbing_(Citrus_greening)', 'Grape___healthy', 'Potato___Late_blight', \n",
    "                       'Grape___Black_rot', 'Soybean___healthy', 'Potato___Early_blight', 'Corn_(maize)___Common_rust_', \n",
    "                       'Corn_(maize)___Northern_Leaf_Blight', 'Raspberry___healthy', 'Tomato___Leaf_Mold', 'Tomato___Target_Spot', 'Tomato___Early_blight', 'Tomato___Tomato_Yellow_Leaf_Curl_Virus', 'Tomato___Septoria_leaf_spot', 'Tomato___Spider_mites Two-spotted_spider_mite', 'Tomato___Tomato_mosaic_virus']\n",
    "                       \n",
    "\n",
    "for cat in excluded_categories:\n",
    "    categories.remove(cat)\n",
    "\n",
    "print('Dataset categories: \\n{}\\n\\nNumber of categories: {}'.format(categories, len(categories)))"
   ]
  },
  {
   "cell_type": "code",
   "execution_count": 6,
   "metadata": {},
   "outputs": [
    {
     "name": "stdout",
     "output_type": "stream",
     "text": [
      "{'Strawberry___Leaf_scorch': 0, 'Tomato___Bacterial_spot': 0.5, 'Apple___Apple_scab': 0.1, 'Tomato___Late_blight': 0.5, 'Apple___Black_rot': 0.1, 'Apple___Cedar_apple_rust': 0.6, 'Apple___healthy': 0.2, 'Tomato___healthy': 0.2, 'Strawberry___healthy': 0}\n",
      "{'Strawberry___Leaf_scorch': 0, 'Tomato___Bacterial_spot': 0.2, 'Apple___Apple_scab': 0.7, 'Tomato___Late_blight': 0.3, 'Apple___Black_rot': 0.3, 'Apple___Cedar_apple_rust': 0, 'Apple___healthy': 0.35, 'Tomato___healthy': 0.25, 'Strawberry___healthy': 0}\n"
     ]
    }
   ],
   "source": [
    "# Define distribution for various training subsets\n",
    "values = [[0, 0.5, 0.1, 0.5, 0.1, 0.6, 0.2, 0.2, 0], \n",
    "          [0, 0.2,  0.7, 0.3, 0.3, 0, 0.35, 0.25, 0], \n",
    "          [0.2, 0.2, 0.2, 0, 0.6, 0.4, 0.3, 0.3, 0.3], \n",
    "          [0.8, 0.1, 0, 0.2, 0, 0, 0.15, 0.25, 0.7]]\n",
    "\n",
    "distribs = []\n",
    "\n",
    "for farm_distrib in values:\n",
    "    distribs.append(dict(zip(categories, farm_distrib)))\n",
    "print(distribs[0])\n",
    "print(distribs[1])"
   ]
  },
  {
   "cell_type": "code",
   "execution_count": 7,
   "metadata": {},
   "outputs": [],
   "source": [
    "# Remove existing datasets and create the new dataset directory\n",
    "path = BASE_DIR+'processed/'\n",
    "if os.path.exists(path):\n",
    "    shutil.rmtree(path)\n",
    "path = Path(path)\n",
    "path.mkdir(parents=True, exist_ok=True)"
   ]
  },
  {
   "cell_type": "code",
   "execution_count": 8,
   "metadata": {},
   "outputs": [
    {
     "name": "stdout",
     "output_type": "stream",
     "text": [
      "[INFO] Loading images ...\n",
      "[INFO] Processing Strawberry___Leaf_scorch with 1109 images\n",
      "[INFO] Processing Tomato___Bacterial_spot with 2127 images\n",
      "[INFO] Processing Apple___Apple_scab with 630 images\n",
      "[INFO] Processing Tomato___Late_blight with 1909 images\n",
      "[INFO] Processing Apple___Black_rot with 621 images\n",
      "[INFO] Processing Apple___Cedar_apple_rust with 275 images\n",
      "[INFO] Processing Apple___healthy with 1645 images\n",
      "[INFO] Processing Tomato___healthy with 1591 images\n",
      "[INFO] Processing Strawberry___healthy with 456 images\n",
      "[INFO] Image loading completed\n"
     ]
    }
   ],
   "source": [
    "# Create the train, val and test directories\n",
    "for i in range(len(distribs)):\n",
    "    Path(TRAIN_DIR+str(i)+'/').mkdir(parents=True, exist_ok=True)\n",
    "Path(VAL_DIR).mkdir(parents=True, exist_ok=True)\n",
    "Path(TEST_DIR).mkdir(parents=True, exist_ok=True)\n",
    "\n",
    "label_list = []\n",
    "\n",
    "def copy_image(directory, category, image, source):\n",
    "    ''' Create directory if not existant and copy the image file\n",
    "    '''\n",
    "    path = directory+\"/\"+category\n",
    "    if not os.path.exists(path+\"/\"+image):\n",
    "        shutil.copyfile(source+'/'+image, path+\"/\"+image)\n",
    "\n",
    "def copy_subset(list_img, bound_inf, bound_sup, category, directory, source_directory):\n",
    "    ''' Loop over a subset of a category of image copy the image files\n",
    "    '''\n",
    "    path = directory+\"/\"+category\n",
    "    if not os.path.exists(path):\n",
    "        os.mkdir(path)\n",
    "    for image in list_img[bound_inf:bound_sup]:\n",
    "        if image.endswith(\".jpg\") == True or image.endswith(\".JPG\") == True:\n",
    "            copy_image(directory, category, image, source_directory)\n",
    "    \n",
    "try:\n",
    "    print(\"[INFO] Loading images ...\")\n",
    "    root_dir = listdir(DATA_DIR)\n",
    "    \n",
    "    train_images = [0] * len(categories)\n",
    "\n",
    "    for plant_disease_folder in categories:\n",
    "        plant_disease_folder_list = listdir(\"{}/{}\".format(DATA_DIR,plant_disease_folder))\n",
    "        print(\"[INFO] Processing {} with {} images\".format(plant_disease_folder, len(plant_disease_folder_list)))\n",
    "        for image in plant_disease_folder_list:\n",
    "            # remove .DS_Store from list\n",
    "            if image == \".DS_Store\" :\n",
    "                plant_disease_folder_list.remove(image)\n",
    "        \n",
    "        source_directory = DATA_DIR+'/'+plant_disease_folder\n",
    "        test_images = len(plant_disease_folder_list)//10\n",
    "        valid_images = len(plant_disease_folder_list)//6\n",
    "        \n",
    "        # Copy test image samples\n",
    "        copy_subset(plant_disease_folder_list, 0, test_images, plant_disease_folder, TEST_DIR, source_directory)\n",
    "        \n",
    "        # Copy validation image samples\n",
    "        copy_subset(plant_disease_folder_list, -valid_images, -1, plant_disease_folder, VAL_DIR, source_directory)\n",
    "\n",
    "        # Preparation of the split train sets\n",
    "        train_images = min(len(plant_disease_folder_list)-test_images-valid_images, 1200)\n",
    "        start_idx = test_images\n",
    "        i = 0\n",
    "        for farms in distribs: \n",
    "            train_subset = round(train_images * farms[plant_disease_folder])\n",
    "            # Copy train image samples\n",
    "            copy_subset(plant_disease_folder_list, start_idx, start_idx+train_subset, plant_disease_folder, TRAIN_DIR+str(i)+'/', source_directory)\n",
    "            start_idx += train_subset\n",
    "            i += 1\n",
    "\n",
    "\n",
    "    print(\"[INFO] Image loading completed\")\n",
    "except Exception as e:\n",
    "   print(\"Error : {}\">format(e))"
   ]
  }
 ],
 "metadata": {
  "kernelspec": {
   "display_name": "Python 3",
   "language": "python",
   "name": "python3"
  },
  "language_info": {
   "codemirror_mode": {
    "name": "ipython",
    "version": 3
   },
   "file_extension": ".py",
   "mimetype": "text/x-python",
   "name": "python",
   "nbconvert_exporter": "python",
   "pygments_lexer": "ipython3",
   "version": "3.6.6"
  }
 },
 "nbformat": 4,
 "nbformat_minor": 2
}
